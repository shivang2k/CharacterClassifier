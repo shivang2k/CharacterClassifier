{
  "nbformat": 4,
  "nbformat_minor": 0,
  "metadata": {
    "colab": {
      "name": "Android_Model",
      "provenance": []
    },
    "kernelspec": {
      "name": "python3",
      "display_name": "Python 3"
    },
    "accelerator": "GPU"
  },
  "cells": [
    {
      "cell_type": "code",
      "metadata": {
        "id": "PTV17S-itPFq",
        "colab_type": "code",
        "outputId": "75a63d45-0fc0-4dae-aaa0-9cb8691dd004",
        "colab": {
          "base_uri": "https://localhost:8080/",
          "height": 33
        }
      },
      "source": [
        "import numpy as np\n",
        "import pandas as pd\n",
        "from tensorflow import keras\n",
        "import matplotlib.pyplot as plt\n",
        "!pip install -U -q PyDrive\n",
        "from pydrive.auth import GoogleAuth\n",
        "from pydrive.drive import GoogleDrive\n",
        "from google.colab import auth\n",
        "from oauth2client.client import GoogleCredentials\n",
        "from keras.layers import Conv2D, Input, LeakyReLU, Dense, Activation, Flatten, Dropout, MaxPool2D\n",
        "from keras import models\n",
        "from keras.optimizers import Adam,RMSprop \n",
        "from keras.preprocessing.image import ImageDataGenerator\n",
        "from keras.callbacks import ReduceLROnPlateau"
      ],
      "execution_count": 1,
      "outputs": [
        {
          "output_type": "stream",
          "text": [
            "Using TensorFlow backend.\n"
          ],
          "name": "stderr"
        }
      ]
    },
    {
      "cell_type": "code",
      "metadata": {
        "id": "VVGwpy9CILX5",
        "colab_type": "code",
        "colab": {}
      },
      "source": [
        "link_train = '/content/drive/My Drive/emnist-balanced-train.csv'\n",
        "link_test = '/content/drive/My Drive/emnist-balanced-test.csv'"
      ],
      "execution_count": 0,
      "outputs": []
    },
    {
      "cell_type": "code",
      "metadata": {
        "id": "-ZOSWWustyRR",
        "colab_type": "code",
        "colab": {}
      },
      "source": [
        "data_train = pd.read_csv(link_train, header=None)\n",
        "\n",
        "data_test = pd.read_csv(link_test, header=None)"
      ],
      "execution_count": 0,
      "outputs": []
    },
    {
      "cell_type": "code",
      "metadata": {
        "id": "y2WlDkriuQSF",
        "colab_type": "code",
        "colab": {}
      },
      "source": [
        "data_train.head(10)"
      ],
      "execution_count": 0,
      "outputs": []
    },
    {
      "cell_type": "code",
      "metadata": {
        "id": "fTxcuRAsuwCP",
        "colab_type": "code",
        "colab": {}
      },
      "source": [
        "class_mapping = '0123456789ABCDEFGHIJKLMNOPQRSTUVWXYZabdefghnqrt'"
      ],
      "execution_count": 0,
      "outputs": []
    },
    {
      "cell_type": "code",
      "metadata": {
        "id": "50MCU8nIuyuo",
        "colab_type": "code",
        "colab": {}
      },
      "source": [
        "data_train.shape"
      ],
      "execution_count": 0,
      "outputs": []
    },
    {
      "cell_type": "code",
      "metadata": {
        "id": "vIYDftgadNk-",
        "colab_type": "code",
        "colab": {}
      },
      "source": [
        "data_train = data_train / 255.0\n",
        "data_test = data_test / 255.0"
      ],
      "execution_count": 0,
      "outputs": []
    },
    {
      "cell_type": "code",
      "metadata": {
        "id": "fc-7k_4cdq-j",
        "colab_type": "code",
        "colab": {}
      },
      "source": [
        "plt.imshow(data_train.values[2, 1:].reshape([28, 28]), cmap='Greys_r')\n",
        "plt.show()\n",
        "\n",
        "img_flip = np.transpose(data_train.values[2,1:].reshape(28, 28), axes=[1,0])\n",
        "plt.imshow(img_flip, cmap='Greys_r')\n",
        "plt.show()"
      ],
      "execution_count": 0,
      "outputs": []
    },
    {
      "cell_type": "code",
      "metadata": {
        "id": "yMP71fVceM9_",
        "colab_type": "code",
        "colab": {}
      },
      "source": [
        "def show_img(data, row_num):\n",
        "    img_flip = np.transpose(data.values[row_num,1:].reshape(28, 28), axes=[1,0])\n",
        "    tit = int(data.values[row_num][0]*255)\n",
        "    plt.title(str(tit), y=-0.15,color=\"green\")\n",
        "    plt.imshow(img_flip, cmap='Greys_r')\n",
        "    print(class_mapping[tit])\n",
        "  "
      ],
      "execution_count": 0,
      "outputs": []
    },
    {
      "cell_type": "code",
      "metadata": {
        "id": "xghBnkP8e7kW",
        "colab_type": "code",
        "colab": {}
      },
      "source": [
        "show_img(data_train, 143)"
      ],
      "execution_count": 0,
      "outputs": []
    },
    {
      "cell_type": "code",
      "metadata": {
        "id": "0hALRQLme-lD",
        "colab_type": "code",
        "colab": {}
      },
      "source": [
        "num_classes = 47 \n",
        "img_size = 28\n",
        "\n",
        "def img_label_load(data_path, num_classes=None):\n",
        "    data = pd.read_csv(data_path, header=None)\n",
        "    data_rows = len(data)\n",
        "    if not num_classes:\n",
        "        num_classes = len(data[0].unique())\n",
        "    \n",
        "    # this assumes square imgs. Should be 28x28\n",
        "    img_size = int(np.sqrt(len(data.iloc[0][1:])))\n",
        "    \n",
        "    # Images need to be transposed. This line also does the reshaping needed.\n",
        "    imgs = np.transpose(data.values[:,1:].reshape(data_rows, img_size, img_size, 1), axes=[0,2,1,3]) # img_size * img_size arrays\n",
        "    \n",
        "    labels = keras.utils.to_categorical(data.values[:,0], num_classes) # one-hot encoding vectors\n",
        "    \n",
        "    return imgs/255., labels"
      ],
      "execution_count": 0,
      "outputs": []
    },
    {
      "cell_type": "code",
      "metadata": {
        "id": "2PW0axqSgSbv",
        "colab_type": "code",
        "colab": {}
      },
      "source": [
        "model = keras.models.Sequential()\n",
        "\n",
        "model.add(keras.layers.Conv2D(filters=32, kernel_size=(3, 3), activation='relu',padding=\"same\", input_shape=(img_size,img_size,1)))\n",
        "model.add(keras.layers.Conv2D(filters=32, kernel_size=(3, 3), activation='relu',padding=\"same\"))\n",
        "model.add(keras.layers.MaxPooling2D(pool_size=(2,2)))\n",
        "model.add(keras.layers.Dropout(.25))\n",
        "\n",
        "model.add(keras.layers.Conv2D(filters=64, kernel_size=(3,3), activation='relu', padding=\"same\"))\n",
        "model.add(keras.layers.Conv2D(filters=64, kernel_size=(3,3), activation='relu', padding=\"same\"))\n",
        "model.add(keras.layers.MaxPooling2D(pool_size=(2,2)))\n",
        "model.add(keras.layers.Dropout(.25))\n",
        "\n",
        "model.add(keras.layers.Flatten())\n",
        "\n",
        "model.add(keras.layers.Dense(units=256, activation='relu'))\n",
        "model.add(keras.layers.Dense(units=128, activation='relu'))\n",
        "model.add(keras.layers.Dense(units=num_classes, activation='sigmoid'))\n",
        "\n",
        "model.compile(loss='categorical_crossentropy', optimizer='Adam', metrics=['accuracy'])\n",
        "model.summary()"
      ],
      "execution_count": 0,
      "outputs": []
    },
    {
      "cell_type": "code",
      "metadata": {
        "id": "olnNpuAVgWEI",
        "colab_type": "code",
        "colab": {}
      },
      "source": [
        ""
      ],
      "execution_count": 0,
      "outputs": []
    },
    {
      "cell_type": "code",
      "metadata": {
        "id": "vLAb5BS0gY97",
        "colab_type": "code",
        "colab": {}
      },
      "source": [
        "X, y = img_label_load(link_train)\n",
        "print(X.shape)"
      ],
      "execution_count": 0,
      "outputs": []
    },
    {
      "cell_type": "code",
      "metadata": {
        "id": "5lI3_Xefgdx5",
        "colab_type": "code",
        "colab": {}
      },
      "source": [
        "data_generator = keras.preprocessing.image.ImageDataGenerator(validation_split=.2)\n",
        "\n",
        "data_generator_with_aug = keras.preprocessing.image.ImageDataGenerator(featurewise_center=False,  # set input mean to 0 over the dataset\n",
        "        samplewise_center=False,  # set each sample mean to 0\n",
        "        featurewise_std_normalization=False,  # divide inputs by std of the dataset\n",
        "        samplewise_std_normalization=False,  # divide each input by its std\n",
        "        zca_whitening=False,  # apply ZCA whitening\n",
        "        rotation_range=10,  # randomly rotate images in the range (degrees, 0 to 180)\n",
        "        zoom_range = 0.1, # Randomly zoom image \n",
        "        width_shift_range=0.1,  # randomly shift images horizontally (fraction of total width)\n",
        "        height_shift_range=0.1,  # randomly shift images vertically (fraction of total height)\n",
        "        horizontal_flip=False,  # randomly flip images\n",
        "        vertical_flip=False)  # randomly flip images)\n",
        "        \n",
        "\n",
        "training_data_generator = data_generator.flow(X, y, subset='training')\n",
        "validation_data_generator = data_generator.flow(X, y, subset='validation')\n",
        "history = model.fit(training_data_generator, \n",
        "                              batch_size = 256, epochs=20,\n",
        "                              validation_data=validation_data_generator)"
      ],
      "execution_count": 0,
      "outputs": []
    },
    {
      "cell_type": "code",
      "metadata": {
        "id": "ElpztU_agv6z",
        "colab_type": "code",
        "outputId": "a2f1f4a0-5948-4a81-f490-dc8e49ad49c1",
        "colab": {
          "base_uri": "https://localhost:8080/",
          "height": 50
        }
      },
      "source": [
        "test_X, test_y = img_label_load(link_test)\n",
        "test_data_generator = data_generator.flow(X, y)\n",
        "\n",
        "model.evaluate(test_data_generator)"
      ],
      "execution_count": 0,
      "outputs": [
        {
          "output_type": "stream",
          "text": [
            "3525/3525 [==============================] - 13s 4ms/step - loss: 0.1906 - accuracy: 0.9289\n"
          ],
          "name": "stdout"
        },
        {
          "output_type": "execute_result",
          "data": {
            "text/plain": [
              "[0.19061018526554108, 0.9289095997810364]"
            ]
          },
          "metadata": {
            "tags": []
          },
          "execution_count": 26
        }
      ]
    },
    {
      "cell_type": "code",
      "metadata": {
        "id": "Yp1u8bDnisWs",
        "colab_type": "code",
        "colab": {}
      },
      "source": [
        "show_img(data_test, 123)"
      ],
      "execution_count": 0,
      "outputs": []
    },
    {
      "cell_type": "code",
      "metadata": {
        "id": "PipDGTjBi2or",
        "colab_type": "code",
        "colab": {}
      },
      "source": [
        "X_test, y_test = img_label_load(link_test)"
      ],
      "execution_count": 0,
      "outputs": []
    },
    {
      "cell_type": "code",
      "metadata": {
        "id": "luI9zZ3ijOfB",
        "colab_type": "code",
        "colab": {}
      },
      "source": [
        "def run_prediction(idx):\n",
        "    result = np.argmax(model.predict(X_test[idx:idx+1]))\n",
        "    print('Prediction: ', result, ', Char: ', class_mapping[result])\n",
        "    print('Label: ', data_test.values[idx,0]*255)\n",
        "    show_img(data_test, idx)"
      ],
      "execution_count": 0,
      "outputs": []
    },
    {
      "cell_type": "code",
      "metadata": {
        "id": "zsmQ0vvojRTT",
        "colab_type": "code",
        "colab": {}
      },
      "source": [
        "import random\n",
        "\n",
        "for _ in range(1,10):\n",
        "    idx = random.randint(0, 47-1)\n",
        "    run_prediction(idx)"
      ],
      "execution_count": 0,
      "outputs": []
    },
    {
      "cell_type": "code",
      "metadata": {
        "id": "vGsVA6oEjTM8",
        "colab_type": "code",
        "colab": {}
      },
      "source": [
        "show_img(data_test, 144)\n",
        "np.argmax(y_test[144])"
      ],
      "execution_count": 0,
      "outputs": []
    },
    {
      "cell_type": "code",
      "metadata": {
        "id": "7cBWCht5j8pI",
        "colab_type": "code",
        "colab": {}
      },
      "source": [
        "import tensorflow as tf\n",
        "converter = tf.lite.TFLiteConverter.from_keras_model(model)\n",
        "tflite_model = converter.convert()\n",
        "\n",
        "f = open('model.tflite', \"wb\")\n",
        "f.write(tflite_model)\n",
        "f.close()"
      ],
      "execution_count": 0,
      "outputs": []
    },
    {
      "cell_type": "code",
      "metadata": {
        "id": "QjDzcXojlJ5T",
        "colab_type": "code",
        "colab": {}
      },
      "source": [
        "try:\n",
        "  from google.colab import files\n",
        "  files.download('model.tflite')\n",
        "except ImportError:\n",
        "  import os\n",
        "  print('TF Lite model:', os.path.join(os.getcwd(), 'model.tflite'))"
      ],
      "execution_count": 0,
      "outputs": []
    },
    {
      "cell_type": "code",
      "metadata": {
        "id": "r74Ijfq2latO",
        "colab_type": "code",
        "colab": {}
      },
      "source": [
        ""
      ],
      "execution_count": 0,
      "outputs": []
    }
  ]
}